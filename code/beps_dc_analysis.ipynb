{
 "cells": [
  {
   "cell_type": "code",
   "execution_count": null,
   "metadata": {},
   "outputs": [],
   "source": [
    "import redivis\n",
    "\n",
    "import pandas as pd\n",
    "import numpy as np\n",
    "import seaborn as sns\n",
    "import matplotlib.pyplot as plt\n",
    "import plotly.express as px\n",
    "## basic functionality\n",
    "import pandas as pd\n",
    "import numpy as np\n",
    "import re\n",
    "import os\n",
    "#import plotnine\n",
    "#from plotnine import *\n",
    "import geopandas as gpd\n",
    "## repeated printouts\n",
    "from IPython.core.interactiveshell import InteractiveShell\n",
    "InteractiveShell.ast_node_interactivity = \"all\"\n",
    "\n",
    "import folium\n",
    "from folium import Map\n",
    "from folium.plugins import HeatMap\n",
    "\n",
    "\n",
    "import datetime\n",
    "import time\n",
    "\n",
    "\n",
    "import census\n",
    "import requests\n"
   ]
  },
  {
   "cell_type": "code",
   "execution_count": null,
   "metadata": {},
   "outputs": [],
   "source": [
    "#Write in dependencies\n",
    "'''\n",
    "pip install census\n",
    "\n",
    "OR\n",
    "\n",
    "conda init\n",
    "conda create -n env_dc\n",
    "conda activate env_dc\n",
    "conda install census\n",
    "\n",
    "'''"
   ]
  },
  {
   "cell_type": "code",
   "execution_count": null,
   "metadata": {},
   "outputs": [],
   "source": [
    "# Full documentation available at:\n",
    "# https://apidocs.redivis.com/client-libraries/redivis-python\n",
    "\n",
    "# load energy BENCHMARK data\n",
    "table = redivis.table(\"table_1:6add\")  # Reference any table in this project\n",
    "dfb = table.to_dataframe()      # Load table as a dataframe\n",
    "\n",
    "dfb.head()\n",
    "\n",
    "# Load energy PERFORMANCE data\n",
    "\n",
    "table = redivis.table(\"building_energy_performance:shjg\")  # Reference any table in this project\n",
    "dfp = table.to_dataframe()      # Load table as a dataframe\n",
    "\n",
    "dfp.head()\n"
   ]
  },
  {
   "cell_type": "code",
   "execution_count": null,
   "metadata": {},
   "outputs": [],
   "source": [
    "dfb.PID.nunique()"
   ]
  },
  {
   "cell_type": "markdown",
   "metadata": {},
   "source": [
    "## Plot - geo - points (building energy/emissions)\n",
    "\n",
    "First, subset to required year."
   ]
  },
  {
   "cell_type": "code",
   "execution_count": null,
   "metadata": {},
   "outputs": [],
   "source": [
    "from shapely.geometry import Point\n",
    "from geopandas import GeoDataFrame\n",
    "\n",
    "gdfb=dfb.copy()\n",
    "\n",
    "geometry = [Point(xy) for xy in zip(gdfb['LONGITUDE'], gdfb['LATITUDE'])]\n",
    "\n",
    "gdfb = GeoDataFrame(gdfb, geometry=geometry) "
   ]
  },
  {
   "cell_type": "markdown",
   "metadata": {},
   "source": [
    "## Heatmap of points (Single year)\n",
    "\n",
    "### Emissions and Energy Variables\n",
    "\n",
    "ENERGYSTARSCORE', 'SITEEUI_KBTU_FT', 'WEATHERNORMALZEDSITEEUI_KBTUFT',\n",
    "       'SOURCEEUI_KBTU_FT', 'WEATHERNORMALZEDSOUREUI_KBTUFT',\n",
    "       'TOTGHGEMISSIONS_METRICTONSCO2E', 'TOTGHGEMISSINTENSITY_KGCO2EFT',\n",
    "       'WATERSCORE_MFPROPERTIES', 'WATERUSE_ALLWATERSOURCES_KGAL',\n",
    "       'NATURALGASUSE_THERMS', 'FUELOILANDDIESELFUELUSEKBTU',\n",
    "       'METEREDAREAS_ENERGY', 'METEREDAREAS_WATER', 'DISTRCHILLEDWATER_KBTU',\n",
    "       'DISTRHOTWATER_KBTU', 'DISTRSTEAM_KBTU', 'ELECTRICITYUSE_RENEWABLE_KWH',\n",
    "       'ELECTRICITYUSE_GRID_KWH',"
   ]
  },
  {
   "cell_type": "code",
   "execution_count": null,
   "metadata": {},
   "outputs": [],
   "source": [
    "\n",
    "#Insert required variables, adjust opacity and blur\n",
    "gdfb20=gdfb[gdfb.REPORTINGYEAR==2020]\n",
    "hm20 = gdfb20[[\"LATITUDE\", \"LONGITUDE\", \"SITEEUI_KBTU_FT\"]]\n",
    "hm20=hm20.dropna()\n",
    "\n",
    "ht_map_e = Map(location=[38.910, -77.035], zoom_start=12, tiles='openstreetmap' )\n",
    "\n",
    "# Default: min_opacity=0.4, radius=10, blur=8\n",
    "mp_e_1 = HeatMap(hm20, min_opacity=0.4, radius=10, blur=8)\n",
    "\n",
    "ht_map_e.add_child(mp_e_1)\n",
    "\n",
    "#insert titles and legend\n"
   ]
  },
  {
   "cell_type": "markdown",
   "metadata": {
    "tags": []
   },
   "source": [
    "## Correlation heatmaps\n",
    "\n",
    "### How are different energy source usages correlated?\n",
    "\n",
    "First, subset to dataframe only with only relevant energy/emissions variables.\n",
    "\n",
    "Calculate correlation matrix. Diagonal divides it into two symmetric triangles. Keep only one.\n",
    "\n",
    "\n",
    "#### Total annual energy consumption from District Hot Water \n",
    "#### highly correlated (0.65-0.75) with EUI and CO2 emissions."
   ]
  },
  {
   "cell_type": "code",
   "execution_count": null,
   "metadata": {},
   "outputs": [],
   "source": [
    "dfb_cor = dfb[['ENERGYSTARSCORE', 'SOURCEEUI_KBTU_FT', 'TOTGHGEMISSINTENSITY_KGCO2EFT', \n",
    "               'WATERSCORE_MFPROPERTIES', 'WATERUSE_ALLWATERSOURCES_KGAL', 'NATURALGASUSE_THERMS', \n",
    "               'FUELOILANDDIESELFUELUSEKBTU', 'METEREDAREAS_ENERGY', 'METEREDAREAS_WATER', 'DISTRCHILLEDWATER_KBTU', \n",
    "\n",
    "               'DISTRHOTWATER_KBTU', 'DISTRSTEAM_KBTU', 'ELECTRICITYUSE_RENEWABLE_KWH', 'ELECTRICITYUSE_GRID_KWH']]"
   ]
  },
  {
   "cell_type": "code",
   "execution_count": null,
   "metadata": {},
   "outputs": [],
   "source": [
    "cor1= dfb_cor.corr()\n",
    "\n",
    "# Getting the Upper Triangle of the co-relation matrix\n",
    "matrix = np.triu(cor1)\n",
    "\n",
    "# using the upper triangle matrix as mask \n",
    "ht_cor1= sns.heatmap(cor1, annot=True, mask=matrix, vmin=-1, vmax=1, cmap='Reds')\n",
    "ht_cor1"
   ]
  },
  {
   "cell_type": "markdown",
   "metadata": {},
   "source": [
    "## Energy/Emissions - Changes through time\n",
    "\n"
   ]
  },
  {
   "cell_type": "code",
   "execution_count": null,
   "metadata": {},
   "outputs": [],
   "source": [
    "dfb2=dfb[dfb.REPORTINGYEAR>2012]\n"
   ]
  },
  {
   "cell_type": "markdown",
   "metadata": {},
   "source": [
    "ENERGYSTARSCORE', 'SITEEUI_KBTU_FT', 'WEATHERNORMALZEDSITEEUI_KBTUFT', 'SOURCEEUI_KBTU_FT', 'WEATHERNORMALZEDSOUREUI_KBTUFT', 'TOTGHGEMISSIONS_METRICTONSCO2E', 'TOTGHGEMISSINTENSITY_KGCO2EFT', 'WATERSCORE_MFPROPERTIES', 'WATERUSE_ALLWATERSOURCES_KGAL', 'NATURALGASUSE_THERMS', 'FUELOILANDDIESELFUELUSEKBTU', 'METEREDAREAS_ENERGY', 'METEREDAREAS_WATER', 'DISTRCHILLEDWATER_KBTU', 'DISTRHOTWATER_KBTU', 'DISTRSTEAM_KBTU', 'ELECTRICITYUSE_RENEWABLE_KWH', 'ELECTRICITYUSE_GRID_KWH',"
   ]
  },
  {
   "cell_type": "markdown",
   "metadata": {},
   "source": [
    "## Calculate changes for energy metrics for buildings from XXXX - 2021"
   ]
  },
  {
   "cell_type": "code",
   "execution_count": null,
   "metadata": {},
   "outputs": [],
   "source": [
    "# Indicator to visualise\n",
    "metric = 'TOTGHGEMISSIONS_METRICTONSCO2E'\n",
    "\n",
    "# Comparison year (w.r.t 2021)\n",
    "comp_year = 2017\n"
   ]
  },
  {
   "cell_type": "code",
   "execution_count": null,
   "metadata": {},
   "outputs": [],
   "source": [
    "\n",
    "dfb4=dfb2.copy()\n",
    "\n",
    "\n",
    "dfb4 = dfb4[dfb4.REPORTINGYEAR.isin([comp_year, 2021])]\n",
    "dfb4= dfb4.dropna(subset=[metric])\n",
    "\n",
    "#drop rows with NA of metric \n",
    "#dfb4[~(dfb4['REPORTINGYEAR']==comp_year) & df['act'].isna())]\n",
    "\n",
    "dfb4 = dfb4[[metric, 'REPORTINGYEAR', 'PRIMARYPROPERTYTYPE_EPACALC', 'PID' ]]\n",
    "\n",
    "dfb4=dfb4.pivot(index = ['PID', 'PRIMARYPROPERTYTYPE_EPACALC'], columns = 'REPORTINGYEAR', values = metric).reset_index()\n",
    "\n",
    "# Calculate percent change\n",
    "dfb4['del_17'] = 100*(dfb4[2021] - dfb4[comp_year])/dfb4[comp_year]\n",
    "dfb4=dfb4.dropna(subset=['del_17'])\n",
    "\n",
    "dfb4['ptype'] = dfb4['PRIMARYPROPERTYTYPE_EPACALC']\n",
    "dfb4=dfb4[['PID', 'del_17', 'ptype']]\n",
    "\n",
    "## Name columns in a loop\n",
    "#for x in dfb4.columns.values:\n",
    "   # dfb4[\"change_{0}\".format(x)] = dfb4[2021] - dfb4[x]\n",
    "    \n",
    "    \n",
    "# Merge back with main    \n",
    "gdfb_21 = gdfb[gdfb.REPORTINGYEAR==2021]\n",
    "\n",
    "gdfb_21 = pd.merge(gdfb_21, dfb4, left_on='PID', right_on = 'PID', how = 'inner')\n"
   ]
  },
  {
   "cell_type": "markdown",
   "metadata": {},
   "source": [
    "## Map it"
   ]
  },
  {
   "cell_type": "code",
   "execution_count": null,
   "metadata": {},
   "outputs": [],
   "source": [
    "hm_17 = gdfb_21[[\"LATITUDE\", \"LONGITUDE\", \"del_17\"]]\n",
    "#hm_17=hm_17.dropna()\n",
    "\n",
    "ht_map_e = Map(location=[38.910, -77.035], zoom_start=12, tiles='openstreetmap' )\n",
    "\n",
    "# Default: min_opacity=0.4, radius=10, blur=8\n",
    "mp_e_1 = HeatMap(hm_17, min_opacity=0.4, radius=10, blur=8)\n",
    "\n",
    "ht_map_e.add_child(mp_e_1)"
   ]
  },
  {
   "cell_type": "markdown",
   "metadata": {},
   "source": [
    "## Descriptive statistics of changes (2017 - 2021) - PERCENT"
   ]
  },
  {
   "cell_type": "code",
   "execution_count": null,
   "metadata": {},
   "outputs": [],
   "source": [
    "\n",
    "gdfb_21.loc[gdfb_21[\"PROPERTYNAME\"] == \"Georgetown University\", \"ptype\"] = \"Georgetown University\"\n",
    "\n",
    "gdfb_21=gdfb_21[gdfb_21.ptype.isin(['Multifamily Housing', 'Office', 'College/University', \"Georgetown University\"])]\n",
    "\n",
    "\n",
    "#fig, ax = plt.subplots(figsize=(5,5))\n",
    "\n",
    "#sns.boxplot(data=gdfb_21, x=\"del_17\", y=\"ptype\", hue=\"ptype\", showfliers = False)\n",
    "#plt.axvline(x = 0.0, color = 'r', linestyle = '-')\n",
    "#ax.get_legend().remove()\n",
    "\n",
    "#sns.barplot(data=gdfb_21, x=\"ptype\", y=\"del_17\")\n",
    "\n"
   ]
  },
  {
   "cell_type": "markdown",
   "metadata": {},
   "source": [
    "## 3. Time plot - monthly (2018m1-2022m1)\n",
    "\n",
    "### a. Make monthly dataframe"
   ]
  },
  {
   "cell_type": "code",
   "execution_count": null,
   "metadata": {},
   "outputs": [],
   "source": [
    "\n",
    "\n",
    "dfb5 = dfb2[dfb2.REPORTINGYEAR>2017]\n",
    "\n",
    "\n",
    "\n",
    "# Make ptype column - Georgetown as separate category\n",
    "dfb5['ptype'] = dfb5['PRIMARYPROPERTYTYPE_EPACALC']\n",
    "dfb5.loc[dfb5[\"PROPERTYNAME\"] == \"Georgetown University\", \"ptype\"] = \"Georgetown University\"\n",
    "\n",
    "\n",
    "# Make wide\n",
    "dfb5= pd.wide_to_long(dfb5, stubnames=['ELECTRICITYUSE_KBTU','NATURALGAS_KBTU'] , i=['OBJECTID', 'REPORTINGYEAR', 'PID', 'SSL', 'PRIMARYPROPERTYTYPE_EPACALC'], j='month', sep='_', suffix=r'\\w+').reset_index()\n",
    "\n",
    "dfb5['REPORTINGYEAR'] = dfb5['REPORTINGYEAR'].astype(str)\n",
    "dfb5['time'] = dfb5.month + \"-\" + dfb5.REPORTINGYEAR\n",
    "dfb5['time2'] = pd.to_datetime(dfb5.time, format='%B-%Y')\n",
    "\n",
    "#dfb5=dfb5[dfb5.ptype.isin(['Multifamily Housing', 'Office', 'College/University', \"Georgetown University\"])]\n",
    "\n",
    "dfb5['REPORTINGYEAR'] = dfb5['REPORTINGYEAR'].astype(int)\n",
    "\n",
    "dfb5[['ptype', 'month', 'REPORTINGYEAR', 'time', 'time2']].sample(5)\n",
    "\n",
    "\n",
    "dfb5.head(5)"
   ]
  },
  {
   "cell_type": "markdown",
   "metadata": {},
   "source": [
    "### b. Plot Electricity and Natural Gas use"
   ]
  },
  {
   "cell_type": "code",
   "execution_count": null,
   "metadata": {},
   "outputs": [],
   "source": [
    "#dfb5=dfb5.ELECTRICITYUSE_KBTU.dropna()\n",
    "#pd.set_option(\"display.max_rows\", None)\n",
    "\n",
    "df_gu = dfb5[(dfb5.ptype==\"Georgetown University\")]\n",
    "\n",
    "dfb5=dfb5[dfb5.ptype.isin(['Multifamily Housing', 'Office', 'College/University',\n",
    "                            'Mixed Use Property'])]\n",
    "\n",
    "\n",
    "import seaborn as sns\n",
    "\n",
    "sns.set_style(\"whitegrid\")\n",
    "\n",
    "\n",
    "fig, ax = plt.subplots()\n",
    "\n",
    "\n",
    "#palette1 = {c:'red' if c=='Office'  else 'grey' for c in cols2.PRIMARYPROPERTYTYPE_EPACALC.unique()}\n",
    "\n",
    "\n",
    "sns.lineplot(x=\"time2\", y=\"ELECTRICITYUSE_KBTU\",  hue=\"ptype\", data=dfb5, legend=True, ax=ax, alpha=0.25)\n",
    "sns.lineplot(x=\"time2\", y=\"ELECTRICITYUSE_KBTU\", color=\"black\", data=df_gu, legend=False, ax=ax,  linestyle=\"dashed\")\n",
    "sns.set(rc={'figure.figsize':(10,10)})\n",
    "\n",
    "fig.figure.autofmt_xdate()\n",
    "\n"
   ]
  },
  {
   "cell_type": "markdown",
   "metadata": {},
   "source": [
    "## 4. Time plot - Annual"
   ]
  },
  {
   "cell_type": "code",
   "execution_count": null,
   "metadata": {},
   "outputs": [],
   "source": [
    "\n",
    "\n",
    "dfb2['ptype']=dfb2['PRIMARYPROPERTYTYPE_EPACALC']\n",
    "\n",
    "dfb2.loc[dfb2[\"PROPERTYNAME\"] == \"Georgetown University\", \"ptype\"] = \"Georgetown University\"\n",
    "\n",
    "dfb3 = dfb2[(dfb2.REPORTINGYEAR>2013)]\n",
    "\n",
    "\n",
    "df_gu = dfb3[(dfb3.ptype==\"Georgetown University\")]\n",
    "\n",
    "#dfb3=dfb3.groupby(['ptype', 'REPORTINGYEAR']).agg({\"TOTGHGEMISSINTENSITY_KGCO2EFT\":np.mean }).reset_index()\n",
    "\n",
    "\n",
    "dfb3=dfb3[dfb3.ptype.isin(['Multifamily Housing', 'Office', 'College/University'])]\n",
    "\n",
    "sns.set_style(\"whitegrid\")\n",
    "fig, ax = plt.subplots(figsize=(8,7))\n",
    "plt.axvline(2020)\n",
    "\n",
    "# Lineplot\n",
    "sns.lineplot(x=\"REPORTINGYEAR\", y=\"TOTGHGEMISSINTENSITY_KGCO2EFT\",  hue=\"ptype\", data=dfb3,\n",
    "             legend=True, ax=ax, alpha=0.7, linewidth=1)\n",
    "\n",
    "#Only Georgetown\n",
    "#sns.lineplot(x=\"REPORTINGYEAR\", y=\"TOTGHGEMISSINTENSITY_KGCO2EFT\",  color=\"black\", data=df_gu, \n",
    " #            legend=True, ax=ax, alpha=0.7, linewidth=1, linestyle='dashed')\n",
    "\n",
    "plt.title('Building Emissions by Type (2014 - 2021', fontsize=12)\n"
   ]
  },
  {
   "cell_type": "markdown",
   "metadata": {
    "tags": []
   },
   "source": [
    "## Census API data\n",
    "\n",
    "\n",
    "We now pull data from the Census for Washington DC.\n",
    "\n",
    "Specs: ACS 5 year, blockgroup level, variables - (income, racial composition)\n",
    "\n",
    "List of available datasets : https://api.census.gov/data.html\n",
    "\n",
    "Available APIs list: https://www.census.gov/data/developers/data-sets.html\n",
    "\n",
    "Python Census package: https://github.com/datamade/census\n",
    "\n",
    "PyGIS: https://pygis.io/docs/d_access_census.html\n",
    "\n",
    "### Insert own Census API key in the cell below, assigning to variable census_api"
   ]
  },
  {
   "cell_type": "code",
   "execution_count": null,
   "metadata": {},
   "outputs": [],
   "source": [
    "from census import Census\n",
    "\n",
    "census_api = Census('2f1473c692f61175605ea04cbe2a9a1b41d5bf7c')"
   ]
  },
  {
   "cell_type": "markdown",
   "metadata": {},
   "source": [
    "### 1. American Community Survey (.acs5)\n",
    "\n",
    "Select variable codes from here:\n",
    "\n",
    " 5 year ACS: https://api.census.gov/data/2020/acs/acs5/variables.html\n",
    " \n",
    " https://api.census.gov/data/2019/acs/acs5/variables.html\n",
    " \n",
    " Example (non-code): https://www.census.gov/content/dam/Census/library/publications/2020/acs/acs_general_handbook_2020.pdf\n",
    " \n",
    " \n",
    " ### Decennial Census - 2010 (.sf1)\n",
    "\n",
    "The ACS 2020 has many key variables missing at the block group level. Next try the Decennial Census 2020.\n",
    "\n",
    "The base way to call the Census API is given here.\n",
    "https://api.census.gov/data/2020/dec/pl/examples.html\n",
    "\n",
    "The Python Census package can only call data for SF1 (summary file, 2011 census).\n"
   ]
  },
  {
   "cell_type": "markdown",
   "metadata": {},
   "source": [
    "#### Geo: block-group\n",
    "    *Var*: HOUSEHOLD INCOME IN THE LAST 12 MONTHS (IN 2019 INFLATION-ADJUSTED DOLLARS), race"
   ]
  },
  {
   "cell_type": "code",
   "execution_count": null,
   "metadata": {},
   "outputs": [],
   "source": [
    "\n",
    "# income, race\n",
    "acs5_19_bg = census_api.acs5.state_county_blockgroup(fields = ('NAME', 'B19013_001E',  'B02001_001E', 'B02001_002E', 'B02001_003E'),\n",
    "                                      state_fips = 11,\n",
    "                                      county_fips = \"*\",\n",
    "                                      blockgroup = \"*\",\n",
    "                                      year = 2019)\n",
    "\n",
    "#convert to pandas df\n",
    "acs5_19_bg = pd.DataFrame(acs5_19_bg)\n",
    "\n",
    "# Create new variables with better names\n",
    "acs5_19_bg['white_pop'] = acs5_19_bg.B02001_002E\n",
    "acs5_19_bg['black_pop'] = acs5_19_bg.B02001_003E\n",
    "acs5_19_bg['tot_pop'] = acs5_19_bg.B02001_001E\n",
    "acs5_19_bg['median_inc'] = acs5_19_bg.B19013_001E\n",
    "\n",
    "acs5_19_bg = acs5_19_bg[['NAME', 'white_pop', 'black_pop', 'tot_pop', 'median_inc', 'state', 'county', 'tract', 'block group']]\n",
    "\n",
    "\n",
    "acs5_19_bg.head()"
   ]
  },
  {
   "cell_type": "markdown",
   "metadata": {},
   "source": [
    "## Call [block group] Shapefile, merge with data \n",
    "\n",
    "\n",
    "All US geographies and shapefiles: https://www.census.gov/geographies/mapping-files/time-series/geo/cartographic-boundary.2021.html#list-tab-WOE0F8BPHOHJO0GYNN\n",
    "\n"
   ]
  },
  {
   "cell_type": "code",
   "execution_count": null,
   "metadata": {},
   "outputs": [],
   "source": [
    "#host = 'https:/www2.census.gov'\n",
    "\n",
    "dc_bg_19 = gpd.read_file('https://www2.census.gov/geo/tiger/TIGER2019/BG/tl_2019_11_bg.zip')\n",
    "\n",
    "\n",
    "dc_bg_19['id']=dc_bg_19['GEOID']\n",
    "\n",
    "\n",
    "acs5_19_bg['id'] = acs5_19_bg.state.astype(str) + acs5_19_bg.county.astype(str) + acs5_19_bg.tract.astype(str) + acs5_19_bg['block group'].astype(str) \n",
    "\n",
    "dc_bg_19 = pd.merge(dc_bg_19, acs5_19_bg, left_on='id', right_on='id', how='left')"
   ]
  },
  {
   "cell_type": "code",
   "execution_count": null,
   "metadata": {},
   "outputs": [],
   "source": [
    "dc_bg_19.columns"
   ]
  },
  {
   "cell_type": "markdown",
   "metadata": {},
   "source": [
    "### Create variables and map\n",
    "\n",
    "\n",
    "\n"
   ]
  },
  {
   "cell_type": "code",
   "execution_count": null,
   "metadata": {},
   "outputs": [],
   "source": [
    "dc_bg_19=dc_bg_19[dc_bg_19.median_inc>0]\n",
    "\n",
    "dc_bg_19['bl_perc'] = dc_bg_19.black_pop/dc_bg_19.tot_pop\n",
    "\n",
    "dc_bg_19['w_perc'] = dc_bg_19.white_pop/dc_bg_19.tot_pop\n"
   ]
  },
  {
   "cell_type": "code",
   "execution_count": null,
   "metadata": {},
   "outputs": [],
   "source": [
    "fig, ax = plt.subplots(figsize=(8,9))\n",
    "\n",
    "plt.title('Median Income', fontsize=20)\n",
    "\n",
    "dc_bg_19.plot(ax=ax, column='median_inc', legend=True)"
   ]
  },
  {
   "cell_type": "markdown",
   "metadata": {},
   "source": [
    "### Blockgroups with higher share of black population have lower median income"
   ]
  },
  {
   "cell_type": "code",
   "execution_count": null,
   "metadata": {},
   "outputs": [],
   "source": [
    "import plotly.express as px\n",
    "\n",
    "fig1 = px.scatter(dc_bg_19, x='bl_perc', y='median_inc', color='w_perc', opacity = .4, \n",
    "                  trendline=\"lowess\", trendline_options=dict(frac=0.4))\n",
    "\n",
    "#fig1 = px.scatter(dc_bg_19, x='bl_perc', y='median_inc', color='w_perc', opacity = .4, \n",
    " #    trendline=\"ols\")\n",
    "fig1"
   ]
  },
  {
   "cell_type": "markdown",
   "metadata": {
    "tags": []
   },
   "source": [
    "## Merge: performance + benchmark, 2019\n",
    "\n",
    "Performance is reported only for 2019. \n",
    "\n",
    "To merge, subset benchmarking data to only 2019.\n",
    "\n",
    "Use SSL as key for merging. Gives highest number of matches (1922)\n"
   ]
  },
  {
   "cell_type": "code",
   "execution_count": null,
   "metadata": {},
   "outputs": [],
   "source": [
    "dfbp19 = dfb[dfb.REPORTINGYEAR==2019]\n",
    "dfbp19.shape\n",
    "\n",
    "dfbp19 = pd.merge(dfbp19, dfp, left_on='SSL', right_on='SSL',\n",
    "                  how='inner')\n",
    "\n",
    "dfbp19.shape"
   ]
  },
  {
   "cell_type": "markdown",
   "metadata": {},
   "source": [
    "## Overlay energy data - building points (benchmark + BEPS), 2019"
   ]
  },
  {
   "cell_type": "code",
   "execution_count": null,
   "metadata": {},
   "outputs": [],
   "source": [
    "geometry = [Point(xy) for xy in zip(dfbp19['LONGITUDE_y'], dfbp19['LATITUDE_y'])]\n",
    "\n",
    "dfbp19 = GeoDataFrame(dfbp19, geometry=geometry) \n",
    "\n",
    "dfbp19=pd.get_dummies(dfbp19, columns=['MEETS_BEPS'])\n",
    "\n"
   ]
  },
  {
   "cell_type": "code",
   "execution_count": null,
   "metadata": {},
   "outputs": [],
   "source": [
    "dfbp19.crs='epsg:4326'\n",
    "dc_bg_19.crs='epsg:4326'"
   ]
  },
  {
   "cell_type": "code",
   "execution_count": null,
   "metadata": {},
   "outputs": [],
   "source": [
    "\n",
    "dfbp19['meets_beps'] = dfbp19['MEETS_BEPS_Meets BEPS']\n",
    "dfbp19['n_build'] =  1             \n",
    "\n",
    "dfbp19['meets_beps'].value_counts()"
   ]
  },
  {
   "cell_type": "code",
   "execution_count": null,
   "metadata": {},
   "outputs": [],
   "source": [
    "\n",
    "fig, ax = plt.subplots(figsize=(10,8))\n",
    "\n",
    "dc_bg_19.plot(ax=ax, facecolor='Grey', edgecolor='k',alpha=1,linewidth=0.3, cmap='binary', column='median_inc', legend=True)\n",
    "\n",
    "dfbp19_2 = dfbp19[dfbp19.meets_beps==0]\n",
    "dfbp19_2.plot(color='red', ax=ax, markersize=2, marker='o', alpha=0.8)\n",
    "\n",
    "\n",
    "#You can use different 'cmaps' such as jet, plasm,magma, infereno,cividis, binary...(I simply chose cividis)\n",
    "\n",
    "\n",
    "#plt.title('Buildings that Failed BEPS by Block Group Median Income', fontsize=12)\n",
    "ax.set_xlabel('Longitude', fontsize=10)\n",
    "ax.set_ylabel('Latitude', fontsize=10)\n"
   ]
  },
  {
   "cell_type": "markdown",
   "metadata": {},
   "source": [
    "## Spatial Join"
   ]
  },
  {
   "cell_type": "code",
   "execution_count": null,
   "metadata": {},
   "outputs": [],
   "source": [
    "# Assign each building point in Energy data to a blockgroup\n",
    "\n",
    "map_pt = gpd.sjoin(dfbp19, dc_bg_19, predicate='intersects') \n",
    "\n",
    "#print(list(map_pt.columns))\n",
    "\n",
    "map_pt.bl_perc = 100*map_pt.bl_perc"
   ]
  },
  {
   "cell_type": "markdown",
   "metadata": {},
   "source": [
    "## Logistic regression - Meets Beps on area income, demogr\n",
    "\n",
    "Run a logistic regression on building level data. \n",
    "\n",
    "Dependent variable = Building meets BEPS (1 if true, 0 if false)\n",
    "\n",
    "Regressors = [Bulding site EUI, BlkGrp % black, BlkGrp Median income]\n",
    "\n",
    "Standard errors clustered by block group (grouping variable 'id')\n",
    "\n",
    "Maximum Likelihood optimisation algorithm: Newton-Raphson\n",
    "\n",
    "###\n"
   ]
  },
  {
   "cell_type": "code",
   "execution_count": null,
   "metadata": {},
   "outputs": [],
   "source": [
    "import statsmodels.formula.api as smf\n",
    "\n",
    "reg_df1 = map_pt[['TAXRECORDFLOORAREA_x', 'SITEEUI_KBTU_FT', 'bl_perc', 'median_inc', 'meets_beps', 'id']]\n",
    "\n",
    "reg_df1=reg_df1.dropna()\n",
    "\n",
    "#define response variable\n",
    "y = reg_df1['meets_beps']\n",
    "\n",
    "#define predictor variables\n",
    "x = reg_df1[['SITEEUI_KBTU_FT', 'bl_perc', 'median_inc']]\n",
    "\n",
    "log_reg = smf.logit(\"meets_beps ~ SITEEUI_KBTU_FT + bl_perc + median_inc\",\n",
    "                    data=reg_df1).fit(cov_type='cluster', method='newton', cov_kwds={'groups': reg_df1['id']})\n",
    "\n",
    "print(log_reg.summary())\n",
    "\n",
    "print(log_reg.get_margeff(at ='overall').summary()) # get marginal effects\n"
   ]
  },
  {
   "cell_type": "markdown",
   "metadata": {},
   "source": [
    "## Results (in Odd ratios)\n",
    "\n",
    "### A building in a block group with 1% more minority population was 0.6% less likely to meet performance standards in 2019.\n",
    "### A 1 kBTU/Ft rise in Site EUI of building associated with a 2.3% lower chance of passing."
   ]
  },
  {
   "cell_type": "code",
   "execution_count": null,
   "metadata": {},
   "outputs": [],
   "source": [
    "model_odds = pd.DataFrame(np.exp(log_reg.params), columns= ['OR'])\n",
    "model_odds['z-value']= log_reg.pvalues\n",
    "model_odds[['2.5%', '97.5%']] = np.exp(log_reg.conf_int())\n",
    "\n",
    "model_odds"
   ]
  },
  {
   "cell_type": "markdown",
   "metadata": {},
   "source": [
    "## Group to block level"
   ]
  },
  {
   "cell_type": "code",
   "execution_count": null,
   "metadata": {},
   "outputs": [],
   "source": [
    "\n",
    "map_pt = map_pt.groupby(['id']).agg(bl_perc=('bl_perc', np.mean), \n",
    "                                            med_inc=('median_inc', np.mean),\n",
    "                                            wh_perc = ('w_perc', np.mean),\n",
    "                                            av_st_eui = ('SITEEUI_KBTU_FT', np.mean),\n",
    "                                            meets_bep = ('meets_beps', np.sum),\n",
    "                                            tot_bldn = ('n_build', np.sum)).reset_index()\n",
    "\n",
    "map_pt['prop_meet_beps'] = map_pt.meets_bep/map_pt.tot_bldn"
   ]
  },
  {
   "cell_type": "code",
   "execution_count": null,
   "metadata": {},
   "outputs": [],
   "source": [
    "\n",
    "import statsmodels.api as sm\n",
    "\n",
    "#define response variable\n",
    "y = df2['av_st_eui']\n",
    "\n",
    "#define predictor variables\n",
    "x = df2[['bl_perc', 'med_inc']]\n",
    "\n",
    "#add constant to predictor variables\n",
    "x = sm.add_constant(x)\n",
    "\n",
    "#fit linear regression model\n",
    "model = sm.OLS(y, x).fit()\n",
    "\n",
    "#view model summary\n",
    "print(model.summary())\n",
    "\n",
    "\n",
    "## Just a plot\n",
    "fig2 = px.scatter(map_pt, x='bl_perc', y='prop_meet_beps', color='tot_bldn', opacity = .4, \n",
    "                  trendline=\"ols\")\n"
   ]
  },
  {
   "cell_type": "markdown",
   "metadata": {},
   "source": [
    "### Geo: Tract\n",
    "   *Var*: Median monthly housing costs, race"
   ]
  },
  {
   "cell_type": "code",
   "execution_count": null,
   "metadata": {},
   "outputs": [],
   "source": [
    "\n",
    "# income, race\n",
    "acs5_19_ct = census_api.acs5.state_county_tract(fields = ('NAME', 'B25105_001E', 'B19013_001E', 'B19013A_001E', 'B19013B_001E', 'B02001_001E', 'B02001_002E', 'B02001_003E', 'B19049_001E'),\n",
    "                                      state_fips = 11,\n",
    "                                      county_fips = \"*\",\n",
    "                                      tract = \"*\",\n",
    "                                      year = 2019)\n",
    "\n",
    "#convert to pandas df\n",
    "acs5_19_ct = pd.DataFrame(acs5_19_ct)\n",
    "\n",
    "\n",
    "# Create new variables with better names\n",
    "acs5_19_ct['white_pop'] = acs5_19_ct.B02001_002E\n",
    "acs5_19_ct['black_pop'] = acs5_19_ct.B02001_003E\n",
    "acs5_19_ct['tot_pop'] = acs5_19_ct.B02001_001E\n",
    "acs5_19_ct['median_inc'] = acs5_19_ct.B19013_001E\n",
    "acs5_19_ct['median_inc_wh'] = acs5_19_ct.B19013A_001E\n",
    "acs5_19_ct['median_inc_bl'] = acs5_19_ct.B19013B_001E\n",
    "acs5_19_ct['median_hous_cost'] = acs5_19_ct.B02001_003E\n",
    "\n",
    "\n",
    "acs5_19_ct = acs5_19_ct[['NAME', 'white_pop', 'black_pop', 'tot_pop', 'median_inc', 'median_inc_wh', 'median_inc_bl', 'median_hous_cost', 'state', 'county', 'tract']]\n",
    "\n",
    "\n",
    "acs5_19_ct.head()"
   ]
  },
  {
   "cell_type": "code",
   "execution_count": null,
   "metadata": {},
   "outputs": [],
   "source": []
  },
  {
   "cell_type": "markdown",
   "metadata": {},
   "source": [
    "# Next steps:\n",
    "- \n"
   ]
  },
  {
   "cell_type": "code",
   "execution_count": null,
   "metadata": {},
   "outputs": [],
   "source": []
  }
 ],
 "metadata": {
  "kernelspec": {
   "display_name": "Python 3",
   "language": "python",
   "name": "python3"
  },
  "language_info": {
   "codemirror_mode": {
    "name": "ipython",
    "version": 3
   },
   "file_extension": ".py",
   "mimetype": "text/x-python",
   "name": "python",
   "nbconvert_exporter": "python",
   "pygments_lexer": "ipython3",
   "version": "3.8.3"
  }
 },
 "nbformat": 4,
 "nbformat_minor": 5
}
